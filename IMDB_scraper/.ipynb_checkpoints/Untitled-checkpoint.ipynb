{
 "cells": [
  {
   "cell_type": "markdown",
   "id": "3877f4f8",
   "metadata": {},
   "source": [
    "# Using Scrapy: IMDB Scraper for your Favorite Show\n",
    "\n",
    "In this tutorial, we will create a scrapy project that recommends new TV shows and movies based on the actors in your favorite TV show or movie. To do so, we will gather data on actors from a given work and find what other projects they have acted in by scraping their IMDB pages.\n",
    "\n",
    "## Setup\n",
    "\n",
    "First look up your favorite TV show on IMDB and copy its link. For this project, I will be using Barry, which has the following link:"
   ]
  },
  {
   "cell_type": "markdown",
   "id": "f7ee9c52",
   "metadata": {},
   "source": [
    "```python\n",
    "https://www.imdb.com/title/tt5348176/\n",
    "```"
   ]
  },
  {
   "cell_type": "markdown",
   "id": "7617e689",
   "metadata": {},
   "source": [
    "Now, open the terminal and set up a Conda environment somewhere in your local filesystem by running the following:"
   ]
  },
  {
   "cell_type": "markdown",
   "id": "504d096f",
   "metadata": {},
   "source": [
    "```python\n",
    "conda activate PIC16B\n",
    "scrapy startproject IMDB_scraper\n",
    "cd IMDB_scraper\n",
    "```"
   ]
  },
  {
   "cell_type": "markdown",
   "id": "06ac2b65",
   "metadata": {},
   "source": [
    "Now, under the ```spiders``` directory, create the file <b>imdb_spider.py</b> and add the following setup code to it:"
   ]
  },
  {
   "cell_type": "code",
   "execution_count": 7,
   "id": "d7a32e18",
   "metadata": {},
   "outputs": [],
   "source": [
    "import scrapy\n",
    "\n",
    "class ImdbSpider(scrapy.Spider):\n",
    "    '''Crawls an IMDB page for a given movie or show and \n",
    "        yields its actors and related works'''\n",
    "    name = 'imdb_spider'\n",
    "    \n",
    "    start_urls = ['https://www.imdb.com/title/tt16290412/']"
   ]
  },
  {
   "cell_type": "markdown",
   "id": "26b67548",
   "metadata": {},
   "source": [
    "## Writing the Scraper\n",
    "\n",
    "We will start by writing the ```parse``` function, which will return a Response object for IMDB's <i>Cast and Crew</i> page for the given show."
   ]
  },
  {
   "cell_type": "code",
   "execution_count": 19,
   "id": "3dc6c06d",
   "metadata": {},
   "outputs": [],
   "source": [
    "    def parse(self, response):\n",
    "        '''yields the cast & crew page for the given work'''\n",
    "                \n",
    "        for url in self.start_urls:\n",
    "            credURL = url + 'fullcredits/'\n",
    "            yield scrapy.Request(url=credURL, callback=self.parse_full_credits)"
   ]
  },
  {
   "cell_type": "markdown",
   "id": "13fbc902",
   "metadata": {},
   "source": [
    "The next step will be to write a function that picks out all of the actor's IMDB pages from the credits page. We can find these links by using the ```href``` attribute of each element in the list of credited actors."
   ]
  },
  {
   "cell_type": "code",
   "execution_count": 20,
   "id": "94745212",
   "metadata": {},
   "outputs": [],
   "source": [
    "    def parse_full_credits(self, response):\n",
    "        '''Yields URLs for IMDB pages of each actor in the work'''\n",
    "        \n",
    "        # Get list of URLs for actor pages\n",
    "        actor_urls = [a.attrib[\"href\"] for a in response.css(\"td.primary_photo a\")]\n",
    "        for url in actor_urls:\n",
    "            #href only contains ID, not full link\n",
    "            actorURL = 'https://www.imdb.com' + url\n",
    "            yield scrapy.Request(url=actorURL, callback=self.parse_actor_page) "
   ]
  },
  {
   "cell_type": "markdown",
   "id": "3c3dedc0",
   "metadata": {},
   "source": [
    "The final scraping step will require us to scrape all of the TV show and film names listed under the actor's page and yield each one in a key-value pair. To obtain the actor's name, we can access the ```title::text``` selector and trim out extra tags, as described below. \n",
    "\n",
    "Scraping the list of projects requires a few selector tricks. We need to scrape the titles from each ```div``` of class ```filmo-row```. First, we can access the unique IDs for each movie or show in which the actor has an acting credit using ```attr(id)```. Then, we can use the ```*=``` selector function to find the titles for each credit that matches each ID."
   ]
  },
  {
   "cell_type": "code",
   "execution_count": 21,
   "id": "5cef5383",
   "metadata": {},
   "outputs": [],
   "source": [
    "    def parse_actor_page(self, response):\n",
    "        '''yields actor and film/show names as a key-value pair for each acting credit'''\n",
    "        \n",
    "        # Every title is written as 'actor name - IMDB'\n",
    "        # We can extract just the name using string indexing\n",
    "        title = response.css('title::text').getall()[0]\n",
    "        name = title[:len(title) - 7]\n",
    "\n",
    "        # From div.filmo-rows, we filter out film/tv IDs \n",
    "        # that are not acting credits \n",
    "        credIDs = response.css('div.filmo-row::attr(id)').getall()\n",
    "        projects = [l[6:] for l in credIDs if 'actor' in l]\n",
    "\n",
    "        titleFunc = lambda p: response.css('div.filmo-row a[href*=\"' + p + '\"]::text').get()\n",
    "        # Then, find the film/tv show name under the correct link\n",
    "        actedList = [titleFunc(p) for p in projects]\n",
    "\n",
    "        for acted in actedList:\n",
    "            yield {'actor' : name, 'movie_or_TV_name' : acted}"
   ]
  },
  {
   "cell_type": "markdown",
   "id": "b6b3eea5",
   "metadata": {},
   "source": [
    "Finally, we will write this output to a csv file. In command line, run the following while in the IMDB_scraper directory:"
   ]
  },
  {
   "cell_type": "markdown",
   "id": "dbd144fb",
   "metadata": {},
   "source": [
    "```scrapy crawl imdb_spider -o results.csv```"
   ]
  },
  {
   "cell_type": "markdown",
   "id": "52e67d60",
   "metadata": {},
   "source": [
    "Now, in a Python shell, we can produce a list of recommendations for new shows and movies by finding the projects that have the most actors in common with the given show. First, import pandas and read in results.csv to a DataFrame."
   ]
  },
  {
   "cell_type": "code",
   "execution_count": 33,
   "id": "308e777e",
   "metadata": {},
   "outputs": [
    {
     "ename": "NameError",
     "evalue": "name 'pandas' is not defined",
     "output_type": "error",
     "traceback": [
      "\u001b[0;31m---------------------------------------------------------------------------\u001b[0m",
      "\u001b[0;31mNameError\u001b[0m                                 Traceback (most recent call last)",
      "\u001b[0;32m/var/folders/5k/pfyvzd_51872_ldwvhqcf2w80000gp/T/ipykernel_1166/4186633695.py\u001b[0m in \u001b[0;36m<module>\u001b[0;34m\u001b[0m\n\u001b[1;32m      2\u001b[0m \u001b[0;34m\u001b[0m\u001b[0m\n\u001b[1;32m      3\u001b[0m \u001b[0;31m# Ensures that all rows all displayed\u001b[0m\u001b[0;34m\u001b[0m\u001b[0;34m\u001b[0m\u001b[0m\n\u001b[0;32m----> 4\u001b[0;31m \u001b[0mpandas\u001b[0m\u001b[0;34m.\u001b[0m\u001b[0mset_option\u001b[0m\u001b[0;34m(\u001b[0m\u001b[0;34m'display.max_rows'\u001b[0m\u001b[0;34m,\u001b[0m \u001b[0;32mNone\u001b[0m\u001b[0;34m)\u001b[0m\u001b[0;34m\u001b[0m\u001b[0;34m\u001b[0m\u001b[0m\n\u001b[0m\u001b[1;32m      5\u001b[0m \u001b[0;34m\u001b[0m\u001b[0m\n\u001b[1;32m      6\u001b[0m \u001b[0mdf\u001b[0m \u001b[0;34m=\u001b[0m \u001b[0mpd\u001b[0m\u001b[0;34m.\u001b[0m\u001b[0mread_csv\u001b[0m\u001b[0;34m(\u001b[0m\u001b[0;34m'results.csv'\u001b[0m\u001b[0;34m)\u001b[0m\u001b[0;34m\u001b[0m\u001b[0;34m\u001b[0m\u001b[0m\n",
      "\u001b[0;31mNameError\u001b[0m: name 'pandas' is not defined"
     ]
    }
   ],
   "source": [
    "import pandas as pd\n",
    "\n",
    "# Ensures that all rows all displayed\n",
    "pandas.set_option('display.max_rows', None)\n",
    "\n",
    "df = pd.read_csv('results.csv')"
   ]
  },
  {
   "cell_type": "markdown",
   "id": "067dafce",
   "metadata": {},
   "source": [
    "The resulting DataFrame for Barry looks like this:"
   ]
  },
  {
   "cell_type": "code",
   "execution_count": 31,
   "id": "2b1e297d",
   "metadata": {},
   "outputs": [
    {
     "data": {
      "text/html": [
       "<div>\n",
       "<style scoped>\n",
       "    .dataframe tbody tr th:only-of-type {\n",
       "        vertical-align: middle;\n",
       "    }\n",
       "\n",
       "    .dataframe tbody tr th {\n",
       "        vertical-align: top;\n",
       "    }\n",
       "\n",
       "    .dataframe thead th {\n",
       "        text-align: right;\n",
       "    }\n",
       "</style>\n",
       "<table border=\"1\" class=\"dataframe\">\n",
       "  <thead>\n",
       "    <tr style=\"text-align: right;\">\n",
       "      <th></th>\n",
       "      <th>actor</th>\n",
       "      <th>movie_or_TV_name</th>\n",
       "    </tr>\n",
       "  </thead>\n",
       "  <tbody>\n",
       "    <tr>\n",
       "      <th>0</th>\n",
       "      <td>John K. Wheaton</td>\n",
       "      <td>Barry</td>\n",
       "    </tr>\n",
       "    <tr>\n",
       "      <th>1</th>\n",
       "      <td>John K. Wheaton</td>\n",
       "      <td>Dong on the Whiteboard</td>\n",
       "    </tr>\n",
       "    <tr>\n",
       "      <th>2</th>\n",
       "      <td>John K. Wheaton</td>\n",
       "      <td>Sony</td>\n",
       "    </tr>\n",
       "    <tr>\n",
       "      <th>3</th>\n",
       "      <td>John K. Wheaton</td>\n",
       "      <td>Smarty Pants</td>\n",
       "    </tr>\n",
       "    <tr>\n",
       "      <th>4</th>\n",
       "      <td>John K. Wheaton</td>\n",
       "      <td>The Penitence</td>\n",
       "    </tr>\n",
       "    <tr>\n",
       "      <th>...</th>\n",
       "      <td>...</td>\n",
       "      <td>...</td>\n",
       "    </tr>\n",
       "    <tr>\n",
       "      <th>5776</th>\n",
       "      <td>Stephen Root</td>\n",
       "      <td>Stanley &amp; Iris</td>\n",
       "    </tr>\n",
       "    <tr>\n",
       "      <th>5777</th>\n",
       "      <td>Stephen Root</td>\n",
       "      <td>Cross of Fire</td>\n",
       "    </tr>\n",
       "    <tr>\n",
       "      <th>5778</th>\n",
       "      <td>Stephen Root</td>\n",
       "      <td>Black Rain</td>\n",
       "    </tr>\n",
       "    <tr>\n",
       "      <th>5779</th>\n",
       "      <td>Stephen Root</td>\n",
       "      <td>Monkey Shines</td>\n",
       "    </tr>\n",
       "    <tr>\n",
       "      <th>5780</th>\n",
       "      <td>Stephen Root</td>\n",
       "      <td>Crocodile Dundee II</td>\n",
       "    </tr>\n",
       "  </tbody>\n",
       "</table>\n",
       "<p>5781 rows × 2 columns</p>\n",
       "</div>"
      ],
      "text/plain": [
       "                actor        movie_or_TV_name\n",
       "0     John K. Wheaton                   Barry\n",
       "1     John K. Wheaton  Dong on the Whiteboard\n",
       "2     John K. Wheaton                    Sony\n",
       "3     John K. Wheaton            Smarty Pants\n",
       "4     John K. Wheaton           The Penitence\n",
       "...               ...                     ...\n",
       "5776     Stephen Root          Stanley & Iris\n",
       "5777     Stephen Root           Cross of Fire\n",
       "5778     Stephen Root              Black Rain\n",
       "5779     Stephen Root           Monkey Shines\n",
       "5780     Stephen Root     Crocodile Dundee II\n",
       "\n",
       "[5781 rows x 2 columns]"
      ]
     },
     "execution_count": 31,
     "metadata": {},
     "output_type": "execute_result"
    }
   ],
   "source": [
    "df"
   ]
  },
  {
   "cell_type": "markdown",
   "id": "88989d5c",
   "metadata": {},
   "source": [
    "To find the most similar works in terms of common actors, we run the following query:"
   ]
  },
  {
   "cell_type": "code",
   "execution_count": 32,
   "id": "2613d556",
   "metadata": {},
   "outputs": [
    {
     "data": {
      "text/html": [
       "<div>\n",
       "<style scoped>\n",
       "    .dataframe tbody tr th:only-of-type {\n",
       "        vertical-align: middle;\n",
       "    }\n",
       "\n",
       "    .dataframe tbody tr th {\n",
       "        vertical-align: top;\n",
       "    }\n",
       "\n",
       "    .dataframe thead th {\n",
       "        text-align: right;\n",
       "    }\n",
       "</style>\n",
       "<table border=\"1\" class=\"dataframe\">\n",
       "  <thead>\n",
       "    <tr style=\"text-align: right;\">\n",
       "      <th></th>\n",
       "      <th>actor</th>\n",
       "    </tr>\n",
       "    <tr>\n",
       "      <th>movie_or_TV_name</th>\n",
       "      <th></th>\n",
       "    </tr>\n",
       "  </thead>\n",
       "  <tbody>\n",
       "    <tr>\n",
       "      <th>Barry</th>\n",
       "      <td>124</td>\n",
       "    </tr>\n",
       "    <tr>\n",
       "      <th>NCIS: Los Angeles</th>\n",
       "      <td>26</td>\n",
       "    </tr>\n",
       "    <tr>\n",
       "      <th>Criminal Minds</th>\n",
       "      <td>19</td>\n",
       "    </tr>\n",
       "    <tr>\n",
       "      <th>Grey's Anatomy</th>\n",
       "      <td>18</td>\n",
       "    </tr>\n",
       "    <tr>\n",
       "      <th>NCIS</th>\n",
       "      <td>18</td>\n",
       "    </tr>\n",
       "    <tr>\n",
       "      <th>...</th>\n",
       "      <td>...</td>\n",
       "    </tr>\n",
       "    <tr>\n",
       "      <th>Her Paradise</th>\n",
       "      <td>1</td>\n",
       "    </tr>\n",
       "    <tr>\n",
       "      <th>Her Time</th>\n",
       "      <td>1</td>\n",
       "    </tr>\n",
       "    <tr>\n",
       "      <th>Here Comes the Boom</th>\n",
       "      <td>1</td>\n",
       "    </tr>\n",
       "    <tr>\n",
       "      <th>Here and Then</th>\n",
       "      <td>1</td>\n",
       "    </tr>\n",
       "    <tr>\n",
       "      <th>¡He matado a mi marido!</th>\n",
       "      <td>1</td>\n",
       "    </tr>\n",
       "  </tbody>\n",
       "</table>\n",
       "<p>4206 rows × 1 columns</p>\n",
       "</div>"
      ],
      "text/plain": [
       "                         actor\n",
       "movie_or_TV_name              \n",
       "Barry                      124\n",
       "NCIS: Los Angeles           26\n",
       "Criminal Minds              19\n",
       "Grey's Anatomy              18\n",
       "NCIS                        18\n",
       "...                        ...\n",
       "Her Paradise                 1\n",
       "Her Time                     1\n",
       "Here Comes the Boom          1\n",
       "Here and Then                1\n",
       "¡He matado a mi marido!      1\n",
       "\n",
       "[4206 rows x 1 columns]"
      ]
     },
     "execution_count": 32,
     "metadata": {},
     "output_type": "execute_result"
    }
   ],
   "source": [
    "df.groupby('movie_or_TV_name').count().sort_values(by='actor',ascending=False)"
   ]
  },
  {
   "cell_type": "markdown",
   "id": "7404f153",
   "metadata": {},
   "source": [
    "In this case, NCIS: LA would be the top recommendation, given that first entry is redundant."
   ]
  }
 ],
 "metadata": {
  "kernelspec": {
   "display_name": "Python 3 (ipykernel)",
   "language": "python",
   "name": "python3"
  },
  "language_info": {
   "codemirror_mode": {
    "name": "ipython",
    "version": 3
   },
   "file_extension": ".py",
   "mimetype": "text/x-python",
   "name": "python",
   "nbconvert_exporter": "python",
   "pygments_lexer": "ipython3",
   "version": "3.9.7"
  }
 },
 "nbformat": 4,
 "nbformat_minor": 5
}
